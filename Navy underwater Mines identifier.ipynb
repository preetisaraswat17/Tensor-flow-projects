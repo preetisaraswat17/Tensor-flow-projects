{
 "cells": [
  {
   "cell_type": "markdown",
   "metadata": {},
   "source": [
    "# ---------------------------Navy Underwater Mine Identifier---------------------------------------"
   ]
  },
  {
   "cell_type": "markdown",
   "metadata": {},
   "source": [
    "This programs analyzes the strength of sonar signal reflected by an underwater obstacle and finds out if its a rock or an underwater mine. This will help submarines to divert the path if an underwater mine is detected and reach safely to the destination."
   ]
  },
  {
   "cell_type": "code",
   "execution_count": 19,
   "metadata": {},
   "outputs": [],
   "source": [
    "import matplotlib.pyplot as plt\n",
    "import numpy as np\n",
    "import pandas as pd\n",
    "import tensorflow as tf\n",
    "from sklearn.preprocessing import LabelEncoder\n",
    "from sklearn.utils import shuffle\n",
    "from sklearn.model_selection import train_test_split"
   ]
  },
  {
   "cell_type": "code",
   "execution_count": 20,
   "metadata": {},
   "outputs": [],
   "source": [
    "#step 1-Read data\n",
    "def read_dataset():\n",
    "    df=pd.read_csv(r'C:\\Users\\Preeti Saraswat\\Documents\\Naval mine detector-project tf\\Sonar dataset.csv',delimiter=',')\n",
    "    #SonarSignal.head()\n",
    "    #SonarSignal.info()\n",
    "    X=df[df.columns[0:60]].values\n",
    "    y=df[df.columns[60]]\n",
    "    \n",
    "#step 2-Encode The Dependent Variable\n",
    "    encoder=LabelEncoder()\n",
    "    encoder.fit(y)\n",
    "    y=encoder.transform(y)\n",
    "    Y=one_hot_encode(y)\n",
    "    print (X.shape)\n",
    "    return (X,Y)"
   ]
  },
  {
   "cell_type": "code",
   "execution_count": 21,
   "metadata": {},
   "outputs": [],
   "source": [
    "#define encoder function\n",
    "def one_hot_encode(labels):\n",
    "    n_labels=len(labels)\n",
    "    n_unique_labels=len(np.unique(labels))\n",
    "    one_hot_encode=np.zeros((n_labels,n_unique_labels))\n",
    "    one_hot_encode[np.arange(n_labels),labels]=1\n",
    "    return one_hot_encode"
   ]
  },
  {
   "cell_type": "code",
   "execution_count": 22,
   "metadata": {},
   "outputs": [
    {
     "name": "stdout",
     "output_type": "stream",
     "text": [
      "(208, 60)\n"
     ]
    }
   ],
   "source": [
    "#read Dataset\n",
    "X,Y=read_dataset()"
   ]
  },
  {
   "cell_type": "code",
   "execution_count": 23,
   "metadata": {},
   "outputs": [],
   "source": [
    "X,Y=shuffle(X,Y, random_state=1)"
   ]
  },
  {
   "cell_type": "code",
   "execution_count": 24,
   "metadata": {},
   "outputs": [],
   "source": [
    "#split dataset into train and test\n",
    "train_x, test_x, train_y, test_y= train_test_split(X,Y,test_size=0.20,random_state=415)"
   ]
  },
  {
   "cell_type": "code",
   "execution_count": 25,
   "metadata": {},
   "outputs": [
    {
     "name": "stdout",
     "output_type": "stream",
     "text": [
      "ndim 60\n"
     ]
    }
   ],
   "source": [
    "#define parameters:\n",
    "learning_rate=0.3\n",
    "training_epochs=1000\n",
    "cost_history=np.empty(shape=[1], dtype=float)\n",
    "n_dim=X.shape[1]\n",
    "print('ndim',n_dim)\n",
    "n_class=2\n",
    "model_path=r'C:\\Users\\Preeti Saraswat\\Desktop\\model'"
   ]
  },
  {
   "cell_type": "code",
   "execution_count": 26,
   "metadata": {},
   "outputs": [],
   "source": [
    "#define no. of hidden layers and neurons in each layer\n",
    "n_hidden1=60\n",
    "n_hidden2=60\n",
    "n_hidden3=60\n",
    "n_hidden4=60"
   ]
  },
  {
   "cell_type": "code",
   "execution_count": 27,
   "metadata": {},
   "outputs": [],
   "source": [
    "x=tf.placeholder(tf.float32,[None,n_dim])\n",
    "w=tf.Variable(tf.zeros([n_dim,n_class]))\n",
    "b=tf.Variable(tf.zeros([n_class]))\n",
    "y_=tf.placeholder(tf.float32,[None,n_class])"
   ]
  },
  {
   "cell_type": "code",
   "execution_count": 28,
   "metadata": {},
   "outputs": [],
   "source": [
    "#define model\n",
    "def  multilayer_perceptron(x,weights,biases):\n",
    "     #hidden layer with Relu activation\n",
    "    layer1=tf.add(tf.matmul(x,weights['h1']),biases['b1'])\n",
    "    layer1=tf.nn.sigmoid(layer1)\n",
    "    \n",
    "    layer2=tf.add(tf.matmul(layer1,weights['h2']),biases['b2'])\n",
    "    layer2=tf.nn.sigmoid(layer2)\n",
    "    \n",
    "    layer3=tf.add(tf.matmul(layer2,weights['h3']),biases['b3'])\n",
    "    layer3=tf.nn.sigmoid(layer3)\n",
    "    \n",
    "    layer4=tf.add(tf.matmul(layer3,weights['h4']),biases['b4'])\n",
    "    layer4=tf.nn.relu(layer4)\n",
    "    \n",
    "    #output layer with linear activation\n",
    "    out_layer=tf.add(tf.matmul(layer4,weights['out']),biases['out'])\n",
    "    return out_layer"
   ]
  },
  {
   "cell_type": "code",
   "execution_count": 29,
   "metadata": {},
   "outputs": [],
   "source": [
    "#define weights and biases\n",
    "weights= {\n",
    "    'h1': tf.Variable(tf.random_normal(([n_dim,n_hidden1]))),\n",
    "    'h2': tf.Variable(tf.random_normal([n_hidden1,n_hidden2])),\n",
    "    'h3': tf.Variable(tf.random_normal([n_hidden2,n_hidden3])),\n",
    "    'h4': tf.Variable(tf.random_normal([n_hidden3,n_hidden4])),\n",
    "    'out': tf.Variable(tf.random_normal([n_hidden4,n_class]))\n",
    "}\n",
    "biases= {\n",
    "    'b1': tf.Variable(tf.random_normal([n_hidden1])),\n",
    "    'b2': tf.Variable(tf.random_normal([n_hidden2])),\n",
    "    'b3': tf.Variable(tf.random_normal([n_hidden3])),\n",
    "    'b4': tf.Variable(tf.random_normal([n_hidden4])),\n",
    "    'out': tf.Variable(tf.random_normal([n_class]))\n",
    "}"
   ]
  },
  {
   "cell_type": "code",
   "execution_count": 30,
   "metadata": {},
   "outputs": [
    {
     "name": "stdout",
     "output_type": "stream",
     "text": [
      "epoch: 0 --- cost: 146.21043 loss: 26122.758079784813 train accuracy 0.5481928\n",
      "epoch: 100 --- cost: 0.588737 loss: 5.841121580060649 train accuracy 0.7289157\n",
      "epoch: 200 --- cost: 0.53942347 loss: 5.411292507219587 train accuracy 0.686747\n",
      "epoch: 300 --- cost: 0.8061879 loss: 6.279695995191192 train accuracy 0.5481928\n",
      "epoch: 400 --- cost: 0.32842994 loss: 5.712145684253129 train accuracy 0.8493976\n",
      "epoch: 500 --- cost: 0.27034178 loss: 6.519770253835389 train accuracy 0.8915663\n",
      "epoch: 600 --- cost: 0.26679838 loss: 4.717081356207272 train accuracy 0.9096386\n",
      "epoch: 700 --- cost: 0.14567019 loss: 5.991885001547665 train accuracy 0.94578314\n",
      "epoch: 800 --- cost: 0.42822543 loss: 4.27409031928273 train accuracy 0.76506025\n",
      "epoch: 900 --- cost: 0.3527108 loss: 8.129368865186652 train accuracy 0.8614458\n"
     ]
    }
   ],
   "source": [
    "init = tf.global_variables_initializer()\n",
    "saver=tf.train.Saver()\n",
    "#call your model\n",
    "y = multilayer_perceptron(x, weights, biases)\n",
    "#define cost function and optimiser\n",
    "cost_function=tf.reduce_mean(tf.nn.softmax_cross_entropy_with_logits(logits=y,labels=y_))\n",
    "training_step=tf.train.GradientDescentOptimizer(learning_rate).minimize(cost_function)\n",
    "\n",
    "sess=tf.Session()\n",
    "sess.run(init)\n",
    "\n",
    "#calculate error and accuracy at each itiration\n",
    "mse_history=[]\n",
    "accuracy_history=[]\n",
    "\n",
    "for epochs in range(training_epochs) :\n",
    "    sess.run(training_step,feed_dict={x:train_x,y_:train_y})\n",
    "    cost=sess.run(cost_function,feed_dict={x:train_x,y_:train_y})\n",
    "    cost_history=np.append(cost_history,cost)\n",
    "    correct_prediction=tf.equal(tf.argmax(y,1),tf.argmax(y_,1))\n",
    "    accuracy=tf.reduce_mean(tf.cast(correct_prediction,tf.float32))\n",
    "    pred_y=sess.run(y,feed_dict={x:test_x})\n",
    "    mse=tf.reduce_mean(tf.square(pred_y-test_y))\n",
    "    mse1=sess.run(mse)\n",
    "    mse_history.append(mse1)\n",
    "    accuracy=(sess.run(accuracy,feed_dict={x:train_x,y_:train_y}))\n",
    "    accuracy_history.append(accuracy)\n",
    "    if epochs%100 == 0:\n",
    "        print('epoch:', epochs, '---','cost:', cost, 'loss:',mse1, 'train accuracy', accuracy)"
   ]
  },
  {
   "cell_type": "code",
   "execution_count": 31,
   "metadata": {},
   "outputs": [
    {
     "data": {
      "image/png": "[encoded data removed]",
      "text/plain": [
       "<matplotlib.figure.Figure at 0x2057eb089e8>"
      ]
     },
     "metadata": {},
     "output_type": "display_data"
    },
    {
     "data": {
      "image/png": "[encoded data removed]",
      "text/plain": [
       "<matplotlib.figure.Figure at 0x2057eb087b8>"
      ]
     },
     "metadata": {},
     "output_type": "display_data"
    },
    {
     "name": "stdout",
     "output_type": "stream",
     "text": [
      "test accuracy 0.61904764\n",
      "MSE\n"
     ]
    }
   ],
   "source": [
    "#plot mse and accuracy graph\n",
    "plt.plot(mse_history,'r')\n",
    "plt.show()\n",
    "plt.plot(accuracy_history)\n",
    "plt.show()\n",
    "\n",
    "#print final accuracy\n",
    "correct_prediction=tf.equal(tf.argmax(y,1),tf.argmax(y_,1))\n",
    "accuracy=tf.reduce_mean(tf.cast(correct_prediction,tf.float32))\n",
    "print('test accuracy',(sess.run(accuracy,feed_dict={x:test_x,y_:test_y})))\n",
    "\n",
    "#final mean square error:\n",
    "pred_y=sess.run(y,feed_dict={x:test_x})\n",
    "mse=tf.reduce_mean(tf.square(pred_y-test_y))\n",
    "print('MSE' %sess.run(mse))"
   ]
  },
  {
   "cell_type": "code",
   "execution_count": null,
   "metadata": {},
   "outputs": [],
   "source": []
  },
  {
   "cell_type": "code",
   "execution_count": null,
   "metadata": {},
   "outputs": [],
   "source": []
  }
 ],
 "metadata": {
  "kernelspec": {
   "display_name": "Python 3",
   "language": "python",
   "name": "python3"
  },
  "language_info": {
   "codemirror_mode": {
    "name": "ipython",
    "version": 3
   },
   "file_extension": ".py",
   "mimetype": "text/x-python",
   "name": "python",
   "nbconvert_exporter": "python",
   "pygments_lexer": "ipython3",
   "version": "3.5.2"
  }
 },
 "nbformat": 4,
 "nbformat_minor": 2
}
